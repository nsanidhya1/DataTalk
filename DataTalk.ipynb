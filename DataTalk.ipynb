{
  "nbformat": 4,
  "nbformat_minor": 0,
  "metadata": {
    "colab": {
      "provenance": [],
      "authorship_tag": "ABX9TyM9aVpW+jlLdaOqpjza1Sl9",
      "include_colab_link": true
    },
    "kernelspec": {
      "name": "python3",
      "display_name": "Python 3"
    },
    "language_info": {
      "name": "python"
    }
  },
  "cells": [
    {
      "cell_type": "markdown",
      "metadata": {
        "id": "view-in-github",
        "colab_type": "text"
      },
      "source": [
        "<a href=\"https://colab.research.google.com/github/nsanidhya1/DataTalk/blob/main/DataTalk.ipynb\" target=\"_parent\"><img src=\"https://colab.research.google.com/assets/colab-badge.svg\" alt=\"Open In Colab\"/></a>"
      ]
    },
    {
      "cell_type": "code",
      "execution_count": 8,
      "metadata": {
        "colab": {
          "base_uri": "https://localhost:8080/"
        },
        "id": "0WaIhSjYkiul",
        "outputId": "f8c63209-2154-42bb-eae8-093eae2b2e59"
      },
      "outputs": [
        {
          "output_type": "stream",
          "name": "stdout",
          "text": [
            "Requirement already satisfied: google-genai in /usr/local/lib/python3.12/dist-packages (1.31.0)\n",
            "Requirement already satisfied: pandas in /usr/local/lib/python3.12/dist-packages (2.3.1)\n",
            "Requirement already satisfied: anyio<5.0.0,>=4.8.0 in /usr/local/lib/python3.12/dist-packages (from google-genai) (4.10.0)\n",
            "Requirement already satisfied: google-auth<3.0.0,>=2.14.1 in /usr/local/lib/python3.12/dist-packages (from google-genai) (2.38.0)\n",
            "Requirement already satisfied: httpx<1.0.0,>=0.28.1 in /usr/local/lib/python3.12/dist-packages (from google-genai) (0.28.1)\n",
            "Requirement already satisfied: pydantic<3.0.0,>=2.0.0 in /usr/local/lib/python3.12/dist-packages (from google-genai) (2.11.7)\n",
            "Requirement already satisfied: requests<3.0.0,>=2.28.1 in /usr/local/lib/python3.12/dist-packages (from google-genai) (2.32.3)\n",
            "Requirement already satisfied: tenacity<9.2.0,>=8.2.3 in /usr/local/lib/python3.12/dist-packages (from google-genai) (9.1.2)\n",
            "Requirement already satisfied: websockets<15.1.0,>=13.0.0 in /usr/local/lib/python3.12/dist-packages (from google-genai) (15.0.1)\n",
            "Requirement already satisfied: typing-extensions<5.0.0,>=4.11.0 in /usr/local/lib/python3.12/dist-packages (from google-genai) (4.14.1)\n",
            "Requirement already satisfied: numpy>=1.26.0 in /usr/local/lib/python3.12/dist-packages (from pandas) (2.0.2)\n",
            "Requirement already satisfied: python-dateutil>=2.8.2 in /usr/local/lib/python3.12/dist-packages (from pandas) (2.9.0.post0)\n",
            "Requirement already satisfied: pytz>=2020.1 in /usr/local/lib/python3.12/dist-packages (from pandas) (2025.2)\n",
            "Requirement already satisfied: tzdata>=2022.7 in /usr/local/lib/python3.12/dist-packages (from pandas) (2025.2)\n",
            "Requirement already satisfied: idna>=2.8 in /usr/local/lib/python3.12/dist-packages (from anyio<5.0.0,>=4.8.0->google-genai) (3.10)\n",
            "Requirement already satisfied: sniffio>=1.1 in /usr/local/lib/python3.12/dist-packages (from anyio<5.0.0,>=4.8.0->google-genai) (1.3.1)\n",
            "Requirement already satisfied: cachetools<6.0,>=2.0.0 in /usr/local/lib/python3.12/dist-packages (from google-auth<3.0.0,>=2.14.1->google-genai) (5.5.2)\n",
            "Requirement already satisfied: pyasn1-modules>=0.2.1 in /usr/local/lib/python3.12/dist-packages (from google-auth<3.0.0,>=2.14.1->google-genai) (0.4.2)\n",
            "Requirement already satisfied: rsa<5,>=3.1.4 in /usr/local/lib/python3.12/dist-packages (from google-auth<3.0.0,>=2.14.1->google-genai) (4.9.1)\n",
            "Requirement already satisfied: certifi in /usr/local/lib/python3.12/dist-packages (from httpx<1.0.0,>=0.28.1->google-genai) (2025.8.3)\n",
            "Requirement already satisfied: httpcore==1.* in /usr/local/lib/python3.12/dist-packages (from httpx<1.0.0,>=0.28.1->google-genai) (1.0.9)\n",
            "Requirement already satisfied: h11>=0.16 in /usr/local/lib/python3.12/dist-packages (from httpcore==1.*->httpx<1.0.0,>=0.28.1->google-genai) (0.16.0)\n",
            "Requirement already satisfied: annotated-types>=0.6.0 in /usr/local/lib/python3.12/dist-packages (from pydantic<3.0.0,>=2.0.0->google-genai) (0.7.0)\n",
            "Requirement already satisfied: pydantic-core==2.33.2 in /usr/local/lib/python3.12/dist-packages (from pydantic<3.0.0,>=2.0.0->google-genai) (2.33.2)\n",
            "Requirement already satisfied: typing-inspection>=0.4.0 in /usr/local/lib/python3.12/dist-packages (from pydantic<3.0.0,>=2.0.0->google-genai) (0.4.1)\n",
            "Requirement already satisfied: six>=1.5 in /usr/local/lib/python3.12/dist-packages (from python-dateutil>=2.8.2->pandas) (1.17.0)\n",
            "Requirement already satisfied: charset-normalizer<4,>=2 in /usr/local/lib/python3.12/dist-packages (from requests<3.0.0,>=2.28.1->google-genai) (3.4.3)\n",
            "Requirement already satisfied: urllib3<3,>=1.21.1 in /usr/local/lib/python3.12/dist-packages (from requests<3.0.0,>=2.28.1->google-genai) (2.5.0)\n",
            "Requirement already satisfied: pyasn1<0.7.0,>=0.6.1 in /usr/local/lib/python3.12/dist-packages (from pyasn1-modules>=0.2.1->google-auth<3.0.0,>=2.14.1->google-genai) (0.6.1)\n"
          ]
        }
      ],
      "source": [
        "!pip install --upgrade google-genai pandas\n"
      ]
    },
    {
      "cell_type": "markdown",
      "source": [],
      "metadata": {
        "id": "SWbh_2qWo0-s"
      }
    },
    {
      "cell_type": "code",
      "source": [
        "from google import genai\n",
        "import sqlite3\n",
        "import pandas as pd\n",
        "API_KEY = \"YOUR_API_KEY\"   #ENTER YOUR API KEY\n",
        "\n",
        "client = genai.Client(api_key=API_KEY)\n",
        "print(\"✅ Gemini initialized with API key\")\n",
        "\n"
      ],
      "metadata": {
        "colab": {
          "base_uri": "https://localhost:8080/"
        },
        "id": "J9VKLo2BkofB",
        "outputId": "997cc215-05ef-44f9-97ff-746ed2e07b6e"
      },
      "execution_count": 14,
      "outputs": [
        {
          "output_type": "stream",
          "name": "stdout",
          "text": [
            "✅ Gemini initialized with API key\n"
          ]
        }
      ]
    },
    {
      "cell_type": "code",
      "source": [
        "from google.colab import files\n",
        "\n",
        "# Upload a CSV file\n",
        "uploaded = files.upload()\n",
        "\n",
        "# Pick first file\n",
        "filename = list(uploaded.keys())[0]\n",
        "\n",
        "# Read CSV\n",
        "df = pd.read_csv(filename)\n",
        "print(\"✅ CSV loaded, preview:\")\n",
        "print(df.head())\n",
        "\n",
        "# Save to SQLite\n",
        "conn = sqlite3.connect(\"data.db\")\n",
        "table_name = \"data\"\n",
        "df.to_sql(table_name, conn, if_exists=\"replace\", index=False)\n",
        "\n",
        "# Generate schema string\n",
        "schema = f\"{table_name}(\" + \", \".join([f\"{col} TEXT\" for col in df.columns]) + \")\"\n",
        "print(\"✅ Schema:\", schema)\n"
      ],
      "metadata": {
        "colab": {
          "base_uri": "https://localhost:8080/",
          "height": 217
        },
        "id": "-nCqkrufk3T1",
        "outputId": "a77b6068-3ef5-491b-895b-eeec682c0a91"
      },
      "execution_count": 15,
      "outputs": [
        {
          "output_type": "display_data",
          "data": {
            "text/plain": [
              "<IPython.core.display.HTML object>"
            ],
            "text/html": [
              "\n",
              "     <input type=\"file\" id=\"files-bbea02e9-9d54-4e30-9a23-be3d08a64a62\" name=\"files[]\" multiple disabled\n",
              "        style=\"border:none\" />\n",
              "     <output id=\"result-bbea02e9-9d54-4e30-9a23-be3d08a64a62\">\n",
              "      Upload widget is only available when the cell has been executed in the\n",
              "      current browser session. Please rerun this cell to enable.\n",
              "      </output>\n",
              "      <script>// Copyright 2017 Google LLC\n",
              "//\n",
              "// Licensed under the Apache License, Version 2.0 (the \"License\");\n",
              "// you may not use this file except in compliance with the License.\n",
              "// You may obtain a copy of the License at\n",
              "//\n",
              "//      http://www.apache.org/licenses/LICENSE-2.0\n",
              "//\n",
              "// Unless required by applicable law or agreed to in writing, software\n",
              "// distributed under the License is distributed on an \"AS IS\" BASIS,\n",
              "// WITHOUT WARRANTIES OR CONDITIONS OF ANY KIND, either express or implied.\n",
              "// See the License for the specific language governing permissions and\n",
              "// limitations under the License.\n",
              "\n",
              "/**\n",
              " * @fileoverview Helpers for google.colab Python module.\n",
              " */\n",
              "(function(scope) {\n",
              "function span(text, styleAttributes = {}) {\n",
              "  const element = document.createElement('span');\n",
              "  element.textContent = text;\n",
              "  for (const key of Object.keys(styleAttributes)) {\n",
              "    element.style[key] = styleAttributes[key];\n",
              "  }\n",
              "  return element;\n",
              "}\n",
              "\n",
              "// Max number of bytes which will be uploaded at a time.\n",
              "const MAX_PAYLOAD_SIZE = 100 * 1024;\n",
              "\n",
              "function _uploadFiles(inputId, outputId) {\n",
              "  const steps = uploadFilesStep(inputId, outputId);\n",
              "  const outputElement = document.getElementById(outputId);\n",
              "  // Cache steps on the outputElement to make it available for the next call\n",
              "  // to uploadFilesContinue from Python.\n",
              "  outputElement.steps = steps;\n",
              "\n",
              "  return _uploadFilesContinue(outputId);\n",
              "}\n",
              "\n",
              "// This is roughly an async generator (not supported in the browser yet),\n",
              "// where there are multiple asynchronous steps and the Python side is going\n",
              "// to poll for completion of each step.\n",
              "// This uses a Promise to block the python side on completion of each step,\n",
              "// then passes the result of the previous step as the input to the next step.\n",
              "function _uploadFilesContinue(outputId) {\n",
              "  const outputElement = document.getElementById(outputId);\n",
              "  const steps = outputElement.steps;\n",
              "\n",
              "  const next = steps.next(outputElement.lastPromiseValue);\n",
              "  return Promise.resolve(next.value.promise).then((value) => {\n",
              "    // Cache the last promise value to make it available to the next\n",
              "    // step of the generator.\n",
              "    outputElement.lastPromiseValue = value;\n",
              "    return next.value.response;\n",
              "  });\n",
              "}\n",
              "\n",
              "/**\n",
              " * Generator function which is called between each async step of the upload\n",
              " * process.\n",
              " * @param {string} inputId Element ID of the input file picker element.\n",
              " * @param {string} outputId Element ID of the output display.\n",
              " * @return {!Iterable<!Object>} Iterable of next steps.\n",
              " */\n",
              "function* uploadFilesStep(inputId, outputId) {\n",
              "  const inputElement = document.getElementById(inputId);\n",
              "  inputElement.disabled = false;\n",
              "\n",
              "  const outputElement = document.getElementById(outputId);\n",
              "  outputElement.innerHTML = '';\n",
              "\n",
              "  const pickedPromise = new Promise((resolve) => {\n",
              "    inputElement.addEventListener('change', (e) => {\n",
              "      resolve(e.target.files);\n",
              "    });\n",
              "  });\n",
              "\n",
              "  const cancel = document.createElement('button');\n",
              "  inputElement.parentElement.appendChild(cancel);\n",
              "  cancel.textContent = 'Cancel upload';\n",
              "  const cancelPromise = new Promise((resolve) => {\n",
              "    cancel.onclick = () => {\n",
              "      resolve(null);\n",
              "    };\n",
              "  });\n",
              "\n",
              "  // Wait for the user to pick the files.\n",
              "  const files = yield {\n",
              "    promise: Promise.race([pickedPromise, cancelPromise]),\n",
              "    response: {\n",
              "      action: 'starting',\n",
              "    }\n",
              "  };\n",
              "\n",
              "  cancel.remove();\n",
              "\n",
              "  // Disable the input element since further picks are not allowed.\n",
              "  inputElement.disabled = true;\n",
              "\n",
              "  if (!files) {\n",
              "    return {\n",
              "      response: {\n",
              "        action: 'complete',\n",
              "      }\n",
              "    };\n",
              "  }\n",
              "\n",
              "  for (const file of files) {\n",
              "    const li = document.createElement('li');\n",
              "    li.append(span(file.name, {fontWeight: 'bold'}));\n",
              "    li.append(span(\n",
              "        `(${file.type || 'n/a'}) - ${file.size} bytes, ` +\n",
              "        `last modified: ${\n",
              "            file.lastModifiedDate ? file.lastModifiedDate.toLocaleDateString() :\n",
              "                                    'n/a'} - `));\n",
              "    const percent = span('0% done');\n",
              "    li.appendChild(percent);\n",
              "\n",
              "    outputElement.appendChild(li);\n",
              "\n",
              "    const fileDataPromise = new Promise((resolve) => {\n",
              "      const reader = new FileReader();\n",
              "      reader.onload = (e) => {\n",
              "        resolve(e.target.result);\n",
              "      };\n",
              "      reader.readAsArrayBuffer(file);\n",
              "    });\n",
              "    // Wait for the data to be ready.\n",
              "    let fileData = yield {\n",
              "      promise: fileDataPromise,\n",
              "      response: {\n",
              "        action: 'continue',\n",
              "      }\n",
              "    };\n",
              "\n",
              "    // Use a chunked sending to avoid message size limits. See b/62115660.\n",
              "    let position = 0;\n",
              "    do {\n",
              "      const length = Math.min(fileData.byteLength - position, MAX_PAYLOAD_SIZE);\n",
              "      const chunk = new Uint8Array(fileData, position, length);\n",
              "      position += length;\n",
              "\n",
              "      const base64 = btoa(String.fromCharCode.apply(null, chunk));\n",
              "      yield {\n",
              "        response: {\n",
              "          action: 'append',\n",
              "          file: file.name,\n",
              "          data: base64,\n",
              "        },\n",
              "      };\n",
              "\n",
              "      let percentDone = fileData.byteLength === 0 ?\n",
              "          100 :\n",
              "          Math.round((position / fileData.byteLength) * 100);\n",
              "      percent.textContent = `${percentDone}% done`;\n",
              "\n",
              "    } while (position < fileData.byteLength);\n",
              "  }\n",
              "\n",
              "  // All done.\n",
              "  yield {\n",
              "    response: {\n",
              "      action: 'complete',\n",
              "    }\n",
              "  };\n",
              "}\n",
              "\n",
              "scope.google = scope.google || {};\n",
              "scope.google.colab = scope.google.colab || {};\n",
              "scope.google.colab._files = {\n",
              "  _uploadFiles,\n",
              "  _uploadFilesContinue,\n",
              "};\n",
              "})(self);\n",
              "</script> "
            ]
          },
          "metadata": {}
        },
        {
          "output_type": "stream",
          "name": "stdout",
          "text": [
            "Saving data.csv to data.csv\n",
            "✅ CSV loaded, preview:\n",
            "   Duration          Date  Pulse  Maxpulse  Calories\n",
            "0        60  '2020/12/01'    110       130     409.1\n",
            "1        60  '2020/12/02'    117       145     479.0\n",
            "2        60  '2020/12/03'    103       135     340.0\n",
            "3        45  '2020/12/04'    109       175     282.4\n",
            "4        45  '2020/12/05'    117       148     406.0\n",
            "✅ Schema: data(Duration TEXT, Date TEXT, Pulse TEXT, Maxpulse TEXT, Calories TEXT)\n"
          ]
        }
      ]
    },
    {
      "cell_type": "code",
      "source": [
        "def nl_to_sql(nl_query, schema):\n",
        "    resp = client.models.generate_content(\n",
        "        model=\"gemini-1.5-flash\",\n",
        "        contents=f\"Translate into SQL.\\nSchema: {schema}\\nQuestion: {nl_query}\"\n",
        "    )\n",
        "    return resp.text.strip()\n",
        "\n",
        "# Example query\n",
        "question = \"Show me the average Calories burned grouped by Duration.\"\n",
        "def clean_sql(gemini_output):\n",
        "    # Remove markdown fences and explanations\n",
        "    sql = gemini_output.replace(\"```sql\", \"\").replace(\"```\", \"\").strip()\n",
        "    return sql.split(\";\")[0] + \";\"  # Keep only the first SQL statement\n",
        "\n",
        "sql_query = nl_to_sql(question, schema)\n",
        "print(\"Generated by Gemini:\\n\", sql_query)\n",
        "\n",
        "# Clean the SQL before execution\n",
        "sql_query = clean_sql(sql_query)\n",
        "print(\"\\nCleaned SQL:\\n\", sql_query)\n",
        "\n",
        "# Run query\n",
        "result = pd.read_sql_query(sql_query, conn)\n",
        "print(\"\\nResult:\\n\", result)\n"
      ],
      "metadata": {
        "id": "airX_gbMnooi",
        "colab": {
          "base_uri": "https://localhost:8080/"
        },
        "outputId": "194bf2c5-ca99-421b-9e40-c3f891ad19e4"
      },
      "execution_count": 22,
      "outputs": [
        {
          "output_type": "stream",
          "name": "stdout",
          "text": [
            "Generated by Gemini:\n",
            " ```sql\n",
            "SELECT Duration, AVG(CAST(Calories AS REAL)) AS AverageCalories\n",
            "FROM data\n",
            "GROUP BY Duration;\n",
            "```\n",
            "\n",
            "This SQL query does the following:\n",
            "\n",
            "* **`SELECT Duration, AVG(CAST(Calories AS REAL)) AS AverageCalories`**: This selects the `Duration` column and calculates the average of the `Calories` column.  Crucially, `CAST(Calories AS REAL)` converts the `Calories` column (presumably stored as text) into a numeric type (REAL) so that the `AVG()` function can work correctly.  The result is aliased as `AverageCalories`.\n",
            "\n",
            "* **`FROM data`**: This specifies that the data should be retrieved from the `data` table.\n",
            "\n",
            "* **`GROUP BY Duration`**: This groups the results by `Duration`, so the average Calories are calculated separately for each unique duration value.\n",
            "\n",
            "\n",
            "If `Calories` were already a numeric type in your table (e.g., INT, FLOAT, DOUBLE), you could omit the `CAST` function:\n",
            "\n",
            "```sql\n",
            "SELECT Duration, AVG(Calories) AS AverageCalories\n",
            "FROM data\n",
            "GROUP BY Duration;\n",
            "```\n",
            "\n",
            "Cleaned SQL:\n",
            " SELECT Duration, AVG(CAST(Calories AS REAL)) AS AverageCalories\n",
            "FROM data\n",
            "GROUP BY Duration;\n",
            "\n",
            "Result:\n",
            "    Duration  AverageCalories\n",
            "0        30        195.10000\n",
            "1        45        291.88000\n",
            "2        60        314.46087\n",
            "3       450        253.30000\n"
          ]
        }
      ]
    },
    {
      "cell_type": "code",
      "source": [
        "def run_sql(sql):\n",
        "    try:\n",
        "        return pd.read_sql_query(sql, conn)\n",
        "    except Exception as e:\n",
        "        return str(e)\n",
        "\n",
        "result = run_sql(sql_query)\n",
        "print(\"Result:\\n\", result)\n",
        "\n",
        "import matplotlib.pyplot as plt\n",
        "\n",
        "if isinstance(result, pd.DataFrame) and not result.empty:\n",
        "    result.plot(kind=\"bar\", x=result.columns[0], y=result.columns[1], legend=False)\n",
        "    plt.ylabel(result.columns[1])\n",
        "    plt.title(\"Gemini NL → SQL Result\")\n",
        "    plt.show()\n"
      ],
      "metadata": {
        "id": "96FPPO_ln0zq",
        "colab": {
          "base_uri": "https://localhost:8080/",
          "height": 591
        },
        "outputId": "19d8cf19-994b-4a6a-9a11-cbc157cba07d"
      },
      "execution_count": 23,
      "outputs": [
        {
          "output_type": "stream",
          "name": "stdout",
          "text": [
            "Result:\n",
            "    Duration  AverageCalories\n",
            "0        30        195.10000\n",
            "1        45        291.88000\n",
            "2        60        314.46087\n",
            "3       450        253.30000\n"
          ]
        },
        {
          "output_type": "display_data",
          "data": {
            "text/plain": [
              "<Figure size 640x480 with 1 Axes>"
            ],
            "image/png": "[encoded data removed]"
          },
          "metadata": {}
        }
      ]
    },
    {
      "cell_type": "code",
      "source": [
        "!pip install gradio --quiet\n",
        "\n",
        "import gradio as gr\n",
        "import pandas as pd\n",
        "import sqlite3\n",
        "from google import genai\n",
        "API_KEY = \"YOUR_API_KEY\"   #ENTER YOUR API KEY\n",
        "client = genai.Client(api_key=API_KEY)\n",
        "\n",
        "# --- Core Function ---\n",
        "def ask_csv(file, question):\n",
        "    try:\n",
        "        # Load CSV\n",
        "        df = pd.read_csv(file.name)\n",
        "        conn = sqlite3.connect(\"data.db\")\n",
        "        df.to_sql(\"data\", conn, if_exists=\"replace\", index=False)\n",
        "\n",
        "        # Build schema\n",
        "        schema = \"data(\" + \", \".join([f\"{c} TEXT\" for c in df.columns]) + \")\"\n",
        "\n",
        "        # Call Gemini\n",
        "        resp = client.models.generate_content(\n",
        "            model=\"gemini-1.5-flash\",\n",
        "            contents=f\"Return ONLY SQL. No explanation. Schema: {schema}\\nQuestion: {question}\"\n",
        "        )\n",
        "\n",
        "        sql = resp.text.strip().replace(\"```sql\", \"\").replace(\"```\", \"\")\n",
        "\n",
        "        # Run SQL\n",
        "        result = pd.read_sql_query(sql, conn)\n",
        "\n",
        "        # Try plotting if possible\n",
        "        plot_path = None\n",
        "        if result.shape[1] >= 2:  # at least 2 columns\n",
        "            try:\n",
        "                plt.figure(figsize=(6,4))\n",
        "                result.plot(kind=\"bar\", x=result.columns[0], y=result.columns[1], legend=False)\n",
        "                plt.xlabel(result.columns[0])\n",
        "                plt.ylabel(result.columns[1])\n",
        "                plt.title(\"Query Result\")\n",
        "                plot_path = \"plot.png\"\n",
        "                plt.savefig(plot_path)\n",
        "                plt.close()\n",
        "            except Exception as e:\n",
        "                plot_path = None\n",
        "\n",
        "        return f\"🔹 Generated SQL:\\n\\n{sql}\", result, plot_path\n",
        "\n",
        "    except Exception as e:\n",
        "        return f\"❌ Error: {str(e)}\", None, None\n",
        "\n",
        "# --- Gradio UI ---\n",
        "with gr.Blocks(theme=gr.themes.Soft()) as demo:\n",
        "    gr.Markdown(\n",
        "        \"\"\"\n",
        "        <div style=\"text-align: center\">\n",
        "        <h1>🧠 Ask Your CSV with Gemini</h1>\n",
        "        <p>Upload a CSV → Ask in plain English → Get SQL + Results 🎉<br>\n",
        "        <em>Now with auto bar plot when possible 📊</em></p>\n",
        "        </div>\n",
        "        \"\"\",\n",
        "        elem_id=\"title\"\n",
        "    )\n",
        "\n",
        "    with gr.Column(elem_id=\"centered\"):\n",
        "        csv_input = gr.File(label=\"📂 Upload CSV\", file_types=[\".csv\"])\n",
        "        question_input = gr.Textbox(\n",
        "            label=\"💬 Your Question\",\n",
        "            placeholder=\"enter your to be converted to SQL query \"\n",
        "        )\n",
        "\n",
        "        sql_output = gr.Textbox(label=\"📜 Generated SQL\")\n",
        "        result_output = gr.Dataframe(label=\"📊 Results\")\n",
        "        plot_output = gr.Image(label=\"📈 Bar Plot (if available)\")\n",
        "\n",
        "        submit_btn = gr.Button(\"✨ Generate Answer\")\n",
        "\n",
        "        submit_btn.click(\n",
        "            fn=ask_csv,\n",
        "            inputs=[csv_input, question_input],\n",
        "            outputs=[sql_output, result_output, plot_output]\n",
        "        )\n",
        "\n",
        "demo.launch(share=True)"
      ],
      "metadata": {
        "colab": {
          "base_uri": "https://localhost:8080/",
          "height": 612
        },
        "id": "BNmNBsB-n-Wx",
        "outputId": "9490e803-59a3-4cc5-e6d5-965229bca112"
      },
      "execution_count": 27,
      "outputs": [
        {
          "output_type": "stream",
          "name": "stdout",
          "text": [
            "Colab notebook detected. To show errors in colab notebook, set debug=True in launch()\n",
            "* Running on public URL: https://fc238757e42dddbd30.gradio.live\n",
            "\n",
            "This share link expires in 1 week. For free permanent hosting and GPU upgrades, run `gradio deploy` from the terminal in the working directory to deploy to Hugging Face Spaces (https://huggingface.co/spaces)\n"
          ]
        },
        {
          "output_type": "display_data",
          "data": {
            "text/plain": [
              "<IPython.core.display.HTML object>"
            ],
            "text/html": [
              "<div><iframe src=\"https://fc238757e42dddbd30.gradio.live\" width=\"100%\" height=\"500\" allow=\"autoplay; camera; microphone; clipboard-read; clipboard-write;\" frameborder=\"0\" allowfullscreen></iframe></div>"
            ]
          },
          "metadata": {}
        },
        {
          "output_type": "execute_result",
          "data": {
            "text/plain": []
          },
          "metadata": {},
          "execution_count": 27
        }
      ]
    }
  ]
}